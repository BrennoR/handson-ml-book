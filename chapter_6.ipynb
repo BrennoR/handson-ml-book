{
 "cells": [
  {
   "cell_type": "markdown",
   "metadata": {},
   "source": [
    "# Imports"
   ]
  },
  {
   "cell_type": "code",
   "execution_count": 1,
   "metadata": {},
   "outputs": [],
   "source": [
    "import numpy as np\n",
    "import pandas as pd\n",
    "import matplotlib as mpl\n",
    "import matplotlib.pyplot as plt\n",
    "import seaborn as sns\n",
    "%matplotlib inline\n",
    "sns.set()"
   ]
  },
  {
   "cell_type": "markdown",
   "metadata": {},
   "source": [
    "# Training and Visualizing"
   ]
  },
  {
   "cell_type": "code",
   "execution_count": 2,
   "metadata": {},
   "outputs": [
    {
     "data": {
      "text/plain": [
       "DecisionTreeClassifier(class_weight=None, criterion='gini', max_depth=2,\n",
       "            max_features=None, max_leaf_nodes=None,\n",
       "            min_impurity_decrease=0.0, min_impurity_split=None,\n",
       "            min_samples_leaf=1, min_samples_split=2,\n",
       "            min_weight_fraction_leaf=0.0, presort=False, random_state=None,\n",
       "            splitter='best')"
      ]
     },
     "execution_count": 2,
     "metadata": {},
     "output_type": "execute_result"
    }
   ],
   "source": [
    "from sklearn.datasets import load_iris\n",
    "from sklearn.tree import DecisionTreeClassifier\n",
    "\n",
    "iris = load_iris()\n",
    "X = iris.data[:, 2:] # petal length and petal width\n",
    "y = iris.target\n",
    "\n",
    "tree_clf = DecisionTreeClassifier(max_depth=2)\n",
    "tree_clf.fit(X, y)"
   ]
  },
  {
   "cell_type": "code",
   "execution_count": 21,
   "metadata": {},
   "outputs": [],
   "source": [
    "from graphviz import Source\n",
    "from sklearn.tree import export_graphviz\n",
    "import os"
   ]
  },
  {
   "cell_type": "code",
   "execution_count": 28,
   "metadata": {},
   "outputs": [
    {
     "data": {
      "image/png": "[encoded data removed]",
      "text/plain": [
       "<Figure size 576x288 with 1 Axes>"
      ]
     },
     "metadata": {},
     "output_type": "display_data"
    }
   ],
   "source": [
    "from matplotlib.colors import ListedColormap\n",
    "\n",
    "def plot_decision_boundary(clf, X, y, axes=[0, 7.5, 0, 3], iris=True, legend=False, plot_training=True):\n",
    "    x1s = np.linspace(axes[0], axes[1], 100)\n",
    "    x2s = np.linspace(axes[2], axes[3], 100)\n",
    "    x1, x2 = np.meshgrid(x1s, x2s)\n",
    "    X_new = np.c_[x1.ravel(), x2.ravel()]\n",
    "    y_pred = clf.predict(X_new).reshape(x1.shape)\n",
    "    custom_cmap = ListedColormap(['#fafab0','#9898ff','#a0faa0'])\n",
    "    plt.contourf(x1, x2, y_pred, alpha=0.3, cmap=custom_cmap)\n",
    "    if not iris:\n",
    "        custom_cmap2 = ListedColormap(['#7d7d58','#4c4c7f','#507d50'])\n",
    "        plt.contour(x1, x2, y_pred, cmap=custom_cmap2, alpha=0.8)\n",
    "    if plot_training:\n",
    "        plt.plot(X[:, 0][y==0], X[:, 1][y==0], \"yo\", label=\"Iris-Setosa\")\n",
    "        plt.plot(X[:, 0][y==1], X[:, 1][y==1], \"bs\", label=\"Iris-Versicolor\")\n",
    "        plt.plot(X[:, 0][y==2], X[:, 1][y==2], \"g^\", label=\"Iris-Virginica\")\n",
    "        plt.axis(axes)\n",
    "    if iris:\n",
    "        plt.xlabel(\"Petal length\", fontsize=14)\n",
    "        plt.ylabel(\"Petal width\", fontsize=14)\n",
    "    else:\n",
    "        plt.xlabel(r\"$x_1$\", fontsize=18)\n",
    "        plt.ylabel(r\"$x_2$\", fontsize=18, rotation=0)\n",
    "    if legend:\n",
    "        plt.legend(loc=\"lower right\", fontsize=14)\n",
    "\n",
    "plt.figure(figsize=(8, 4))\n",
    "plot_decision_boundary(tree_clf, X, y)\n",
    "plt.plot([2.45, 2.45], [0, 3], \"k-\", linewidth=2)\n",
    "plt.plot([2.45, 7.5], [1.75, 1.75], \"k--\", linewidth=2)\n",
    "plt.plot([4.95, 4.95], [0, 1.75], \"k:\", linewidth=2)\n",
    "plt.plot([4.85, 4.85], [1.75, 3], \"k:\", linewidth=2)\n",
    "plt.text(1.40, 1.0, \"Depth=0\", fontsize=15)\n",
    "plt.text(3.2, 1.80, \"Depth=1\", fontsize=13)\n",
    "plt.text(4.05, 0.5, \"(Depth=2)\", fontsize=11)\n",
    "\n",
    "plt.show()"
   ]
  },
  {
   "cell_type": "markdown",
   "metadata": {},
   "source": [
    "# Predicting Classes and Class Probabilities"
   ]
  },
  {
   "cell_type": "code",
   "execution_count": 23,
   "metadata": {},
   "outputs": [
    {
     "data": {
      "text/plain": [
       "array([[0.        , 0.90740741, 0.09259259]])"
      ]
     },
     "execution_count": 23,
     "metadata": {},
     "output_type": "execute_result"
    }
   ],
   "source": [
    "tree_clf.predict_proba([[5, 1.5]])"
   ]
  },
  {
   "cell_type": "code",
   "execution_count": 24,
   "metadata": {},
   "outputs": [
    {
     "data": {
      "text/plain": [
       "array([1])"
      ]
     },
     "execution_count": 24,
     "metadata": {},
     "output_type": "execute_result"
    }
   ],
   "source": [
    "tree_clf.predict([[5, 1.5]])"
   ]
  },
  {
   "cell_type": "markdown",
   "metadata": {},
   "source": [
    "# Sensitivity to Training Set Details"
   ]
  },
  {
   "cell_type": "code",
   "execution_count": 25,
   "metadata": {},
   "outputs": [
    {
     "data": {
      "text/plain": [
       "array([[4.8, 1.8]])"
      ]
     },
     "execution_count": 25,
     "metadata": {},
     "output_type": "execute_result"
    }
   ],
   "source": [
    "X[(X[:, 1]==X[:, 1][y==1].max()) & (y==1)] # widest Iris-Versicolor flower"
   ]
  },
  {
   "cell_type": "code",
   "execution_count": 26,
   "metadata": {},
   "outputs": [
    {
     "data": {
      "text/plain": [
       "DecisionTreeClassifier(class_weight=None, criterion='gini', max_depth=2,\n",
       "            max_features=None, max_leaf_nodes=None,\n",
       "            min_impurity_decrease=0.0, min_impurity_split=None,\n",
       "            min_samples_leaf=1, min_samples_split=2,\n",
       "            min_weight_fraction_leaf=0.0, presort=False, random_state=40,\n",
       "            splitter='best')"
      ]
     },
     "execution_count": 26,
     "metadata": {},
     "output_type": "execute_result"
    }
   ],
   "source": [
    "not_widest_versicolor = (X[:, 1]!=1.8) | (y==2)\n",
    "X_tweaked = X[not_widest_versicolor]\n",
    "y_tweaked = y[not_widest_versicolor]\n",
    "\n",
    "tree_clf_tweaked = DecisionTreeClassifier(max_depth=2, random_state=40)\n",
    "tree_clf_tweaked.fit(X_tweaked, y_tweaked)"
   ]
  },
  {
   "cell_type": "code",
   "execution_count": 29,
   "metadata": {},
   "outputs": [
    {
     "data": {
      "image/png": "[encoded data removed]",
      "text/plain": [
       "<Figure size 576x288 with 1 Axes>"
      ]
     },
     "metadata": {},
     "output_type": "display_data"
    }
   ],
   "source": [
    "plt.figure(figsize=(8, 4))\n",
    "plot_decision_boundary(tree_clf_tweaked, X_tweaked, y_tweaked, legend=False)\n",
    "plt.plot([0, 7.5], [0.8, 0.8], \"k-\", linewidth=2)\n",
    "plt.plot([0, 7.5], [1.75, 1.75], \"k--\", linewidth=2)\n",
    "plt.text(1.0, 0.9, \"Depth=0\", fontsize=15)\n",
    "plt.text(1.0, 1.80, \"Depth=1\", fontsize=13)\n",
    "\n",
    "plt.show()"
   ]
  },
  {
   "cell_type": "code",
   "execution_count": 30,
   "metadata": {},
   "outputs": [
    {
     "data": {
      "image/png": "[encoded data removed]",
      "text/plain": [
       "<Figure size 792x288 with 2 Axes>"
      ]
     },
     "metadata": {},
     "output_type": "display_data"
    }
   ],
   "source": [
    "from sklearn.datasets import make_moons\n",
    "Xm, ym = make_moons(n_samples=100, noise=0.25, random_state=53)\n",
    "\n",
    "deep_tree_clf1 = DecisionTreeClassifier(random_state=42)\n",
    "deep_tree_clf2 = DecisionTreeClassifier(min_samples_leaf=4, random_state=42)\n",
    "deep_tree_clf1.fit(Xm, ym)\n",
    "deep_tree_clf2.fit(Xm, ym)\n",
    "\n",
    "plt.figure(figsize=(11, 4))\n",
    "plt.subplot(121)\n",
    "plot_decision_boundary(deep_tree_clf1, Xm, ym, axes=[-1.5, 2.5, -1, 1.5], iris=False)\n",
    "plt.title(\"No restrictions\", fontsize=16)\n",
    "plt.subplot(122)\n",
    "plot_decision_boundary(deep_tree_clf2, Xm, ym, axes=[-1.5, 2.5, -1, 1.5], iris=False)\n",
    "plt.title(\"min_samples_leaf = {}\".format(deep_tree_clf2.min_samples_leaf), fontsize=14)\n",
    "\n",
    "plt.show()"
   ]
  },
  {
   "cell_type": "code",
   "execution_count": 31,
   "metadata": {},
   "outputs": [
    {
     "data": {
      "image/png": "[encoded data removed]",
      "text/plain": [
       "<Figure size 576x216 with 1 Axes>"
      ]
     },
     "metadata": {},
     "output_type": "display_data"
    }
   ],
   "source": [
    "angle = np.pi / 180 * 20\n",
    "rotation_matrix = np.array([[np.cos(angle), -np.sin(angle)], [np.sin(angle), np.cos(angle)]])\n",
    "Xr = X.dot(rotation_matrix)\n",
    "\n",
    "tree_clf_r = DecisionTreeClassifier(random_state=42)\n",
    "tree_clf_r.fit(Xr, y)\n",
    "\n",
    "plt.figure(figsize=(8, 3))\n",
    "plot_decision_boundary(tree_clf_r, Xr, y, axes=[0.5, 7.5, -1.0, 1], iris=False)\n",
    "\n",
    "plt.show()"
   ]
  },
  {
   "cell_type": "code",
   "execution_count": 32,
   "metadata": {},
   "outputs": [
    {
     "data": {
      "image/png": "[encoded data removed]",
      "text/plain": [
       "<Figure size 792x288 with 2 Axes>"
      ]
     },
     "metadata": {},
     "output_type": "display_data"
    }
   ],
   "source": [
    "np.random.seed(6)\n",
    "Xs = np.random.rand(100, 2) - 0.5\n",
    "ys = (Xs[:, 0] > 0).astype(np.float32) * 2\n",
    "\n",
    "angle = np.pi / 4\n",
    "rotation_matrix = np.array([[np.cos(angle), -np.sin(angle)], [np.sin(angle), np.cos(angle)]])\n",
    "Xsr = Xs.dot(rotation_matrix)\n",
    "\n",
    "tree_clf_s = DecisionTreeClassifier(random_state=42)\n",
    "tree_clf_s.fit(Xs, ys)\n",
    "tree_clf_sr = DecisionTreeClassifier(random_state=42)\n",
    "tree_clf_sr.fit(Xsr, ys)\n",
    "\n",
    "plt.figure(figsize=(11, 4))\n",
    "plt.subplot(121)\n",
    "plot_decision_boundary(tree_clf_s, Xs, ys, axes=[-0.7, 0.7, -0.7, 0.7], iris=False)\n",
    "plt.subplot(122)\n",
    "plot_decision_boundary(tree_clf_sr, Xsr, ys, axes=[-0.7, 0.7, -0.7, 0.7], iris=False)\n",
    "\n",
    "plt.show()"
   ]
  },
  {
   "cell_type": "markdown",
   "metadata": {},
   "source": [
    "# Regression Trees"
   ]
  },
  {
   "cell_type": "code",
   "execution_count": 33,
   "metadata": {},
   "outputs": [],
   "source": [
    "np.random.seed(42)\n",
    "m = 200\n",
    "X = np.random.rand(m, 1)\n",
    "y = 4 * (X - 0.5) ** 2\n",
    "y = y + np.random.randn(m, 1) / 10"
   ]
  },
  {
   "cell_type": "code",
   "execution_count": 34,
   "metadata": {},
   "outputs": [
    {
     "data": {
      "text/plain": [
       "DecisionTreeRegressor(criterion='mse', max_depth=2, max_features=None,\n",
       "           max_leaf_nodes=None, min_impurity_decrease=0.0,\n",
       "           min_impurity_split=None, min_samples_leaf=1,\n",
       "           min_samples_split=2, min_weight_fraction_leaf=0.0,\n",
       "           presort=False, random_state=42, splitter='best')"
      ]
     },
     "execution_count": 34,
     "metadata": {},
     "output_type": "execute_result"
    }
   ],
   "source": [
    "from sklearn.tree import DecisionTreeRegressor\n",
    "\n",
    "tree_reg = DecisionTreeRegressor(max_depth=2, random_state=42)\n",
    "tree_reg.fit(X, y)"
   ]
  },
  {
   "cell_type": "code",
   "execution_count": 35,
   "metadata": {},
   "outputs": [
    {
     "data": {
      "image/png": "[encoded data removed]",
      "text/plain": [
       "<Figure size 792x288 with 2 Axes>"
      ]
     },
     "metadata": {},
     "output_type": "display_data"
    }
   ],
   "source": [
    "tree_reg1 = DecisionTreeRegressor(random_state=42, max_depth=2)\n",
    "tree_reg2 = DecisionTreeRegressor(random_state=42, max_depth=3)\n",
    "tree_reg1.fit(X, y)\n",
    "tree_reg2.fit(X, y)\n",
    "\n",
    "def plot_regression_predictions(tree_reg, X, y, axes=[0, 1, -0.2, 1], ylabel=\"$y$\"):\n",
    "    x1 = np.linspace(axes[0], axes[1], 500).reshape(-1, 1)\n",
    "    y_pred = tree_reg.predict(x1)\n",
    "    plt.axis(axes)\n",
    "    plt.xlabel(\"$x_1$\", fontsize=18)\n",
    "    if ylabel:\n",
    "        plt.ylabel(ylabel, fontsize=18, rotation=0)\n",
    "    plt.plot(X, y, \"b.\")\n",
    "    plt.plot(x1, y_pred, \"r.-\", linewidth=2, label=r\"$\\hat{y}$\")\n",
    "\n",
    "plt.figure(figsize=(11, 4))\n",
    "plt.subplot(121)\n",
    "plot_regression_predictions(tree_reg1, X, y)\n",
    "for split, style in ((0.1973, \"k-\"), (0.0917, \"k--\"), (0.7718, \"k--\")):\n",
    "    plt.plot([split, split], [-0.2, 1], style, linewidth=2)\n",
    "plt.text(0.21, 0.65, \"Depth=0\", fontsize=15)\n",
    "plt.text(0.01, 0.2, \"Depth=1\", fontsize=13)\n",
    "plt.text(0.65, 0.8, \"Depth=1\", fontsize=13)\n",
    "plt.legend(loc=\"upper center\", fontsize=18)\n",
    "plt.title(\"max_depth=2\", fontsize=14)\n",
    "\n",
    "plt.subplot(122)\n",
    "plot_regression_predictions(tree_reg2, X, y, ylabel=None)\n",
    "for split, style in ((0.1973, \"k-\"), (0.0917, \"k--\"), (0.7718, \"k--\")):\n",
    "    plt.plot([split, split], [-0.2, 1], style, linewidth=2)\n",
    "for split in (0.0458, 0.1298, 0.2873, 0.9040):\n",
    "    plt.plot([split, split], [-0.2, 1], \"k:\", linewidth=1)\n",
    "plt.text(0.3, 0.5, \"Depth=2\", fontsize=13)\n",
    "plt.title(\"max_depth=3\", fontsize=14)\n",
    "\n",
    "plt.show()"
   ]
  },
  {
   "cell_type": "code",
   "execution_count": 36,
   "metadata": {},
   "outputs": [
    {
     "data": {
      "image/png": "[encoded data removed]",
      "text/plain": [
       "<Figure size 792x288 with 2 Axes>"
      ]
     },
     "metadata": {},
     "output_type": "display_data"
    }
   ],
   "source": [
    "tree_reg1 = DecisionTreeRegressor(random_state=42)\n",
    "tree_reg2 = DecisionTreeRegressor(random_state=42, min_samples_leaf=10)\n",
    "tree_reg1.fit(X, y)\n",
    "tree_reg2.fit(X, y)\n",
    "\n",
    "x1 = np.linspace(0, 1, 500).reshape(-1, 1)\n",
    "y_pred1 = tree_reg1.predict(x1)\n",
    "y_pred2 = tree_reg2.predict(x1)\n",
    "\n",
    "plt.figure(figsize=(11, 4))\n",
    "\n",
    "plt.subplot(121)\n",
    "plt.plot(X, y, \"b.\")\n",
    "plt.plot(x1, y_pred1, \"r.-\", linewidth=2, label=r\"$\\hat{y}$\")\n",
    "plt.axis([0, 1, -0.2, 1.1])\n",
    "plt.xlabel(\"$x_1$\", fontsize=18)\n",
    "plt.ylabel(\"$y$\", fontsize=18, rotation=0)\n",
    "plt.legend(loc=\"upper center\", fontsize=18)\n",
    "plt.title(\"No restrictions\", fontsize=14)\n",
    "\n",
    "plt.subplot(122)\n",
    "plt.plot(X, y, \"b.\")\n",
    "plt.plot(x1, y_pred2, \"r.-\", linewidth=2, label=r\"$\\hat{y}$\")\n",
    "plt.axis([0, 1, -0.2, 1.1])\n",
    "plt.xlabel(\"$x_1$\", fontsize=18)\n",
    "plt.title(\"min_samples_leaf={}\".format(tree_reg2.min_samples_leaf), fontsize=14)\n",
    "\n",
    "plt.show()"
   ]
  },
  {
   "cell_type": "markdown",
   "metadata": {},
   "source": [
    "# Exercises"
   ]
  },
  {
   "cell_type": "markdown",
   "metadata": {},
   "source": [
    "# 7 -"
   ]
  },
  {
   "cell_type": "code",
   "execution_count": 108,
   "metadata": {},
   "outputs": [],
   "source": [
    "X, y = make_moons(n_samples=10000, noise=0.4)"
   ]
  },
  {
   "cell_type": "code",
   "execution_count": 109,
   "metadata": {},
   "outputs": [],
   "source": [
    "from sklearn.model_selection import train_test_split\n",
    "\n",
    "X_train, X_test, y_train, y_test = train_test_split(X, y, test_size=0.2)"
   ]
  },
  {
   "cell_type": "code",
   "execution_count": 110,
   "metadata": {},
   "outputs": [],
   "source": [
    "from sklearn.model_selection import GridSearchCV"
   ]
  },
  {
   "cell_type": "code",
   "execution_count": 111,
   "metadata": {},
   "outputs": [],
   "source": [
    "tree_moons = DecisionTreeClassifier()\n",
    "\n",
    "parameters = {\n",
    "    'max_depth': [2, 4, 8, 12],\n",
    "    'min_samples_split': [2, 4, 8],\n",
    "    'max_leaf_nodes': [None, 10, 20, 30, 40, 50, 60]\n",
    "}"
   ]
  },
  {
   "cell_type": "code",
   "execution_count": 112,
   "metadata": {},
   "outputs": [
    {
     "name": "stdout",
     "output_type": "stream",
     "text": [
      "Fitting 3 folds for each of 84 candidates, totalling 252 fits\n",
      "[CV] max_depth=2, max_leaf_nodes=None, min_samples_split=2 ...........\n",
      "[CV]  max_depth=2, max_leaf_nodes=None, min_samples_split=2, score=0.8503299340131973, total=   0.0s\n",
      "[CV] max_depth=2, max_leaf_nodes=None, min_samples_split=2 ...........\n",
      "[CV]  max_depth=2, max_leaf_nodes=None, min_samples_split=2, score=0.852129574085183, total=   0.0s\n",
      "[CV] max_depth=2, max_leaf_nodes=None, min_samples_split=2 ...........\n",
      "[CV]  max_depth=2, max_leaf_nodes=None, min_samples_split=2, score=0.8559423769507803, total=   0.0s\n",
      "[CV] max_depth=2, max_leaf_nodes=None, min_samples_split=4 ...........\n",
      "[CV]  max_depth=2, max_leaf_nodes=None, min_samples_split=4, score=0.8503299340131973, total=   0.0s\n",
      "[CV] max_depth=2, max_leaf_nodes=None, min_samples_split=4 ...........\n",
      "[CV]  max_depth=2, max_leaf_nodes=None, min_samples_split=4, score=0.852129574085183, total=   0.0s\n",
      "[CV] max_depth=2, max_leaf_nodes=None, min_samples_split=4 ...........\n",
      "[CV]  max_depth=2, max_leaf_nodes=None, min_samples_split=4, score=0.8559423769507803, total=   0.0s\n",
      "[CV] max_depth=2, max_leaf_nodes=None, min_samples_split=8 ...........\n",
      "[CV]  max_depth=2, max_leaf_nodes=None, min_samples_split=8, score=0.8503299340131973, total=   0.0s\n",
      "[CV] max_depth=2, max_leaf_nodes=None, min_samples_split=8 ...........\n",
      "[CV]  max_depth=2, max_leaf_nodes=None, min_samples_split=8, score=0.852129574085183, total=   0.0s\n",
      "[CV] max_depth=2, max_leaf_nodes=None, min_samples_split=8 ...........\n",
      "[CV]  max_depth=2, max_leaf_nodes=None, min_samples_split=8, score=0.8559423769507803, total=   0.0s\n",
      "[CV] max_depth=2, max_leaf_nodes=10, min_samples_split=2 .............\n",
      "[CV]  max_depth=2, max_leaf_nodes=10, min_samples_split=2, score=0.8503299340131973, total=   0.0s\n",
      "[CV] max_depth=2, max_leaf_nodes=10, min_samples_split=2 .............\n",
      "[CV]  max_depth=2, max_leaf_nodes=10, min_samples_split=2, score=0.852129574085183, total=   0.0s\n",
      "[CV] max_depth=2, max_leaf_nodes=10, min_samples_split=2 .............\n",
      "[CV]  max_depth=2, max_leaf_nodes=10, min_samples_split=2, score=0.8559423769507803, total=   0.0s\n",
      "[CV] max_depth=2, max_leaf_nodes=10, min_samples_split=4 .............\n",
      "[CV]  max_depth=2, max_leaf_nodes=10, min_samples_split=4, score=0.8503299340131973, total=   0.0s\n",
      "[CV] max_depth=2, max_leaf_nodes=10, min_samples_split=4 .............\n",
      "[CV]  max_depth=2, max_leaf_nodes=10, min_samples_split=4, score=0.852129574085183, total=   0.0s\n",
      "[CV] max_depth=2, max_leaf_nodes=10, min_samples_split=4 .............\n",
      "[CV]  max_depth=2, max_leaf_nodes=10, min_samples_split=4, score=0.8559423769507803, total=   0.0s\n",
      "[CV] max_depth=2, max_leaf_nodes=10, min_samples_split=8 .............\n",
      "[CV]  max_depth=2, max_leaf_nodes=10, min_samples_split=8, score=0.8503299340131973, total=   0.0s\n",
      "[CV] max_depth=2, max_leaf_nodes=10, min_samples_split=8 .............\n",
      "[CV]  max_depth=2, max_leaf_nodes=10, min_samples_split=8, score=0.852129574085183, total=   0.0s\n",
      "[CV] max_depth=2, max_leaf_nodes=10, min_samples_split=8 .............\n",
      "[CV]  max_depth=2, max_leaf_nodes=10, min_samples_split=8, score=0.8559423769507803, total=   0.0s\n",
      "[CV] max_depth=2, max_leaf_nodes=20, min_samples_split=2 .............\n",
      "[CV]  max_depth=2, max_leaf_nodes=20, min_samples_split=2, score=0.8503299340131973, total=   0.0s\n",
      "[CV] max_depth=2, max_leaf_nodes=20, min_samples_split=2 .............\n",
      "[CV]  max_depth=2, max_leaf_nodes=20, min_samples_split=2, score=0.852129574085183, total=   0.0s\n",
      "[CV] max_depth=2, max_leaf_nodes=20, min_samples_split=2 .............\n",
      "[CV]  max_depth=2, max_leaf_nodes=20, min_samples_split=2, score=0.8559423769507803, total=   0.0s\n",
      "[CV] max_depth=2, max_leaf_nodes=20, min_samples_split=4 .............\n",
      "[CV]  max_depth=2, max_leaf_nodes=20, min_samples_split=4, score=0.8503299340131973, total=   0.0s\n",
      "[CV] max_depth=2, max_leaf_nodes=20, min_samples_split=4 .............\n"
     ]
    },
    {
     "name": "stderr",
     "output_type": "stream",
     "text": [
      "[Parallel(n_jobs=1)]: Using backend SequentialBackend with 1 concurrent workers.\n",
      "[Parallel(n_jobs=1)]: Done   1 out of   1 | elapsed:    0.0s remaining:    0.0s\n",
      "[Parallel(n_jobs=1)]: Done   2 out of   2 | elapsed:    0.0s remaining:    0.0s\n"
     ]
    },
    {
     "name": "stdout",
     "output_type": "stream",
     "text": [
      "[CV]  max_depth=2, max_leaf_nodes=20, min_samples_split=4, score=0.852129574085183, total=   0.0s\n",
      "[CV] max_depth=2, max_leaf_nodes=20, min_samples_split=4 .............\n",
      "[CV]  max_depth=2, max_leaf_nodes=20, min_samples_split=4, score=0.8559423769507803, total=   0.0s\n",
      "[CV] max_depth=2, max_leaf_nodes=20, min_samples_split=8 .............\n",
      "[CV]  max_depth=2, max_leaf_nodes=20, min_samples_split=8, score=0.8503299340131973, total=   0.0s\n",
      "[CV] max_depth=2, max_leaf_nodes=20, min_samples_split=8 .............\n",
      "[CV]  max_depth=2, max_leaf_nodes=20, min_samples_split=8, score=0.852129574085183, total=   0.0s\n",
      "[CV] max_depth=2, max_leaf_nodes=20, min_samples_split=8 .............\n",
      "[CV]  max_depth=2, max_leaf_nodes=20, min_samples_split=8, score=0.8559423769507803, total=   0.0s\n",
      "[CV] max_depth=2, max_leaf_nodes=30, min_samples_split=2 .............\n",
      "[CV]  max_depth=2, max_leaf_nodes=30, min_samples_split=2, score=0.8503299340131973, total=   0.0s\n",
      "[CV] max_depth=2, max_leaf_nodes=30, min_samples_split=2 .............\n",
      "[CV]  max_depth=2, max_leaf_nodes=30, min_samples_split=2, score=0.852129574085183, total=   0.0s\n",
      "[CV] max_depth=2, max_leaf_nodes=30, min_samples_split=2 .............\n",
      "[CV]  max_depth=2, max_leaf_nodes=30, min_samples_split=2, score=0.8559423769507803, total=   0.0s\n",
      "[CV] max_depth=2, max_leaf_nodes=30, min_samples_split=4 .............\n",
      "[CV]  max_depth=2, max_leaf_nodes=30, min_samples_split=4, score=0.8503299340131973, total=   0.0s\n",
      "[CV] max_depth=2, max_leaf_nodes=30, min_samples_split=4 .............\n",
      "[CV]  max_depth=2, max_leaf_nodes=30, min_samples_split=4, score=0.852129574085183, total=   0.0s\n",
      "[CV] max_depth=2, max_leaf_nodes=30, min_samples_split=4 .............\n",
      "[CV]  max_depth=2, max_leaf_nodes=30, min_samples_split=4, score=0.8559423769507803, total=   0.0s\n",
      "[CV] max_depth=2, max_leaf_nodes=30, min_samples_split=8 .............\n",
      "[CV]  max_depth=2, max_leaf_nodes=30, min_samples_split=8, score=0.8503299340131973, total=   0.0s\n",
      "[CV] max_depth=2, max_leaf_nodes=30, min_samples_split=8 .............\n",
      "[CV]  max_depth=2, max_leaf_nodes=30, min_samples_split=8, score=0.852129574085183, total=   0.0s\n",
      "[CV] max_depth=2, max_leaf_nodes=30, min_samples_split=8 .............\n",
      "[CV]  max_depth=2, max_leaf_nodes=30, min_samples_split=8, score=0.8559423769507803, total=   0.0s\n",
      "[CV] max_depth=2, max_leaf_nodes=40, min_samples_split=2 .............\n",
      "[CV]  max_depth=2, max_leaf_nodes=40, min_samples_split=2, score=0.8503299340131973, total=   0.0s\n",
      "[CV] max_depth=2, max_leaf_nodes=40, min_samples_split=2 .............\n",
      "[CV]  max_depth=2, max_leaf_nodes=40, min_samples_split=2, score=0.852129574085183, total=   0.0s\n",
      "[CV] max_depth=2, max_leaf_nodes=40, min_samples_split=2 .............\n",
      "[CV]  max_depth=2, max_leaf_nodes=40, min_samples_split=2, score=0.8559423769507803, total=   0.0s\n",
      "[CV] max_depth=2, max_leaf_nodes=40, min_samples_split=4 .............\n",
      "[CV]  max_depth=2, max_leaf_nodes=40, min_samples_split=4, score=0.8503299340131973, total=   0.0s\n",
      "[CV] max_depth=2, max_leaf_nodes=40, min_samples_split=4 .............\n",
      "[CV]  max_depth=2, max_leaf_nodes=40, min_samples_split=4, score=0.852129574085183, total=   0.0s\n",
      "[CV] max_depth=2, max_leaf_nodes=40, min_samples_split=4 .............\n",
      "[CV]  max_depth=2, max_leaf_nodes=40, min_samples_split=4, score=0.8559423769507803, total=   0.0s\n",
      "[CV] max_depth=2, max_leaf_nodes=40, min_samples_split=8 .............\n",
      "[CV]  max_depth=2, max_leaf_nodes=40, min_samples_split=8, score=0.8503299340131973, total=   0.0s\n",
      "[CV] max_depth=2, max_leaf_nodes=40, min_samples_split=8 .............\n",
      "[CV]  max_depth=2, max_leaf_nodes=40, min_samples_split=8, score=0.852129574085183, total=   0.0s\n",
      "[CV] max_depth=2, max_leaf_nodes=40, min_samples_split=8 .............\n",
      "[CV]  max_depth=2, max_leaf_nodes=40, min_samples_split=8, score=0.8559423769507803, total=   0.0s\n",
      "[CV] max_depth=2, max_leaf_nodes=50, min_samples_split=2 .............\n",
      "[CV]  max_depth=2, max_leaf_nodes=50, min_samples_split=2, score=0.8503299340131973, total=   0.0s\n",
      "[CV] max_depth=2, max_leaf_nodes=50, min_samples_split=2 .............\n",
      "[CV]  max_depth=2, max_leaf_nodes=50, min_samples_split=2, score=0.852129574085183, total=   0.0s\n",
      "[CV] max_depth=2, max_leaf_nodes=50, min_samples_split=2 .............\n",
      "[CV]  max_depth=2, max_leaf_nodes=50, min_samples_split=2, score=0.8559423769507803, total=   0.0s\n",
      "[CV] max_depth=2, max_leaf_nodes=50, min_samples_split=4 .............\n",
      "[CV]  max_depth=2, max_leaf_nodes=50, min_samples_split=4, score=0.8503299340131973, total=   0.0s\n",
      "[CV] max_depth=2, max_leaf_nodes=50, min_samples_split=4 .............\n",
      "[CV]  max_depth=2, max_leaf_nodes=50, min_samples_split=4, score=0.852129574085183, total=   0.0s\n",
      "[CV] max_depth=2, max_leaf_nodes=50, min_samples_split=4 .............\n",
      "[CV]  max_depth=2, max_leaf_nodes=50, min_samples_split=4, score=0.8559423769507803, total=   0.0s\n",
      "[CV] max_depth=2, max_leaf_nodes=50, min_samples_split=8 .............\n",
      "[CV]  max_depth=2, max_leaf_nodes=50, min_samples_split=8, score=0.8503299340131973, total=   0.0s\n",
      "[CV] max_depth=2, max_leaf_nodes=50, min_samples_split=8 .............\n",
      "[CV]  max_depth=2, max_leaf_nodes=50, min_samples_split=8, score=0.852129574085183, total=   0.0s\n",
      "[CV] max_depth=2, max_leaf_nodes=50, min_samples_split=8 .............\n",
      "[CV]  max_depth=2, max_leaf_nodes=50, min_samples_split=8, score=0.8559423769507803, total=   0.0s\n",
      "[CV] max_depth=2, max_leaf_nodes=60, min_samples_split=2 .............\n",
      "[CV]  max_depth=2, max_leaf_nodes=60, min_samples_split=2, score=0.8503299340131973, total=   0.0s\n",
      "[CV] max_depth=2, max_leaf_nodes=60, min_samples_split=2 .............\n",
      "[CV]  max_depth=2, max_leaf_nodes=60, min_samples_split=2, score=0.852129574085183, total=   0.0s\n",
      "[CV] max_depth=2, max_leaf_nodes=60, min_samples_split=2 .............\n",
      "[CV]  max_depth=2, max_leaf_nodes=60, min_samples_split=2, score=0.8559423769507803, total=   0.0s\n",
      "[CV] max_depth=2, max_leaf_nodes=60, min_samples_split=4 .............\n",
      "[CV]  max_depth=2, max_leaf_nodes=60, min_samples_split=4, score=0.8503299340131973, total=   0.0s\n",
      "[CV] max_depth=2, max_leaf_nodes=60, min_samples_split=4 .............\n",
      "[CV]  max_depth=2, max_leaf_nodes=60, min_samples_split=4, score=0.852129574085183, total=   0.0s\n",
      "[CV] max_depth=2, max_leaf_nodes=60, min_samples_split=4 .............\n",
      "[CV]  max_depth=2, max_leaf_nodes=60, min_samples_split=4, score=0.8559423769507803, total=   0.0s\n",
      "[CV] max_depth=2, max_leaf_nodes=60, min_samples_split=8 .............\n",
      "[CV]  max_depth=2, max_leaf_nodes=60, min_samples_split=8, score=0.8503299340131973, total=   0.0s\n",
      "[CV] max_depth=2, max_leaf_nodes=60, min_samples_split=8 .............\n",
      "[CV]  max_depth=2, max_leaf_nodes=60, min_samples_split=8, score=0.852129574085183, total=   0.0s\n",
      "[CV] max_depth=2, max_leaf_nodes=60, min_samples_split=8 .............\n",
      "[CV]  max_depth=2, max_leaf_nodes=60, min_samples_split=8, score=0.8559423769507803, total=   0.0s\n",
      "[CV] max_depth=4, max_leaf_nodes=None, min_samples_split=2 ...........\n",
      "[CV]  max_depth=4, max_leaf_nodes=None, min_samples_split=2, score=0.8500299940011997, total=   0.0s\n",
      "[CV] max_depth=4, max_leaf_nodes=None, min_samples_split=2 ...........\n",
      "[CV]  max_depth=4, max_leaf_nodes=None, min_samples_split=2, score=0.8515296940611877, total=   0.0s\n",
      "[CV] max_depth=4, max_leaf_nodes=None, min_samples_split=2 ...........\n",
      "[CV]  max_depth=4, max_leaf_nodes=None, min_samples_split=2, score=0.8556422569027611, total=   0.0s\n",
      "[CV] max_depth=4, max_leaf_nodes=None, min_samples_split=4 ...........\n",
      "[CV]  max_depth=4, max_leaf_nodes=None, min_samples_split=4, score=0.8500299940011997, total=   0.0s\n",
      "[CV] max_depth=4, max_leaf_nodes=None, min_samples_split=4 ...........\n",
      "[CV]  max_depth=4, max_leaf_nodes=None, min_samples_split=4, score=0.8515296940611877, total=   0.0s\n",
      "[CV] max_depth=4, max_leaf_nodes=None, min_samples_split=4 ...........\n",
      "[CV]  max_depth=4, max_leaf_nodes=None, min_samples_split=4, score=0.8556422569027611, total=   0.0s\n",
      "[CV] max_depth=4, max_leaf_nodes=None, min_samples_split=8 ...........\n",
      "[CV]  max_depth=4, max_leaf_nodes=None, min_samples_split=8, score=0.8500299940011997, total=   0.0s\n",
      "[CV] max_depth=4, max_leaf_nodes=None, min_samples_split=8 ...........\n",
      "[CV]  max_depth=4, max_leaf_nodes=None, min_samples_split=8, score=0.8515296940611877, total=   0.0s\n",
      "[CV] max_depth=4, max_leaf_nodes=None, min_samples_split=8 ...........\n",
      "[CV]  max_depth=4, max_leaf_nodes=None, min_samples_split=8, score=0.8556422569027611, total=   0.0s\n",
      "[CV] max_depth=4, max_leaf_nodes=10, min_samples_split=2 .............\n",
      "[CV]  max_depth=4, max_leaf_nodes=10, min_samples_split=2, score=0.8503299340131973, total=   0.0s\n",
      "[CV] max_depth=4, max_leaf_nodes=10, min_samples_split=2 .............\n",
      "[CV]  max_depth=4, max_leaf_nodes=10, min_samples_split=2, score=0.852129574085183, total=   0.0s\n",
      "[CV] max_depth=4, max_leaf_nodes=10, min_samples_split=2 .............\n",
      "[CV]  max_depth=4, max_leaf_nodes=10, min_samples_split=2, score=0.8559423769507803, total=   0.0s\n",
      "[CV] max_depth=4, max_leaf_nodes=10, min_samples_split=4 .............\n",
      "[CV]  max_depth=4, max_leaf_nodes=10, min_samples_split=4, score=0.8503299340131973, total=   0.0s\n",
      "[CV] max_depth=4, max_leaf_nodes=10, min_samples_split=4 .............\n",
      "[CV]  max_depth=4, max_leaf_nodes=10, min_samples_split=4, score=0.852129574085183, total=   0.0s\n",
      "[CV] max_depth=4, max_leaf_nodes=10, min_samples_split=4 .............\n",
      "[CV]  max_depth=4, max_leaf_nodes=10, min_samples_split=4, score=0.8559423769507803, total=   0.0s\n",
      "[CV] max_depth=4, max_leaf_nodes=10, min_samples_split=8 .............\n",
      "[CV]  max_depth=4, max_leaf_nodes=10, min_samples_split=8, score=0.8503299340131973, total=   0.0s\n",
      "[CV] max_depth=4, max_leaf_nodes=10, min_samples_split=8 .............\n",
      "[CV]  max_depth=4, max_leaf_nodes=10, min_samples_split=8, score=0.852129574085183, total=   0.0s\n",
      "[CV] max_depth=4, max_leaf_nodes=10, min_samples_split=8 .............\n",
      "[CV]  max_depth=4, max_leaf_nodes=10, min_samples_split=8, score=0.8559423769507803, total=   0.0s\n",
      "[CV] max_depth=4, max_leaf_nodes=20, min_samples_split=2 .............\n"
     ]
    },
    {
     "name": "stdout",
     "output_type": "stream",
     "text": [
      "[CV]  max_depth=4, max_leaf_nodes=20, min_samples_split=2, score=0.8500299940011997, total=   0.0s\n",
      "[CV] max_depth=4, max_leaf_nodes=20, min_samples_split=2 .............\n",
      "[CV]  max_depth=4, max_leaf_nodes=20, min_samples_split=2, score=0.8458308338332333, total=   0.0s\n",
      "[CV] max_depth=4, max_leaf_nodes=20, min_samples_split=2 .............\n",
      "[CV]  max_depth=4, max_leaf_nodes=20, min_samples_split=2, score=0.8565426170468188, total=   0.0s\n",
      "[CV] max_depth=4, max_leaf_nodes=20, min_samples_split=4 .............\n",
      "[CV]  max_depth=4, max_leaf_nodes=20, min_samples_split=4, score=0.8500299940011997, total=   0.0s\n",
      "[CV] max_depth=4, max_leaf_nodes=20, min_samples_split=4 .............\n",
      "[CV]  max_depth=4, max_leaf_nodes=20, min_samples_split=4, score=0.8458308338332333, total=   0.0s\n",
      "[CV] max_depth=4, max_leaf_nodes=20, min_samples_split=4 .............\n",
      "[CV]  max_depth=4, max_leaf_nodes=20, min_samples_split=4, score=0.8565426170468188, total=   0.0s\n",
      "[CV] max_depth=4, max_leaf_nodes=20, min_samples_split=8 .............\n",
      "[CV]  max_depth=4, max_leaf_nodes=20, min_samples_split=8, score=0.8500299940011997, total=   0.0s\n",
      "[CV] max_depth=4, max_leaf_nodes=20, min_samples_split=8 .............\n",
      "[CV]  max_depth=4, max_leaf_nodes=20, min_samples_split=8, score=0.8458308338332333, total=   0.0s\n",
      "[CV] max_depth=4, max_leaf_nodes=20, min_samples_split=8 .............\n",
      "[CV]  max_depth=4, max_leaf_nodes=20, min_samples_split=8, score=0.8565426170468188, total=   0.0s\n",
      "[CV] max_depth=4, max_leaf_nodes=30, min_samples_split=2 .............\n",
      "[CV]  max_depth=4, max_leaf_nodes=30, min_samples_split=2, score=0.8497300539892022, total=   0.0s\n",
      "[CV] max_depth=4, max_leaf_nodes=30, min_samples_split=2 .............\n",
      "[CV]  max_depth=4, max_leaf_nodes=30, min_samples_split=2, score=0.8467306538692262, total=   0.0s\n",
      "[CV] max_depth=4, max_leaf_nodes=30, min_samples_split=2 .............\n",
      "[CV]  max_depth=4, max_leaf_nodes=30, min_samples_split=2, score=0.8562424969987995, total=   0.0s\n",
      "[CV] max_depth=4, max_leaf_nodes=30, min_samples_split=4 .............\n",
      "[CV]  max_depth=4, max_leaf_nodes=30, min_samples_split=4, score=0.8497300539892022, total=   0.0s\n",
      "[CV] max_depth=4, max_leaf_nodes=30, min_samples_split=4 .............\n",
      "[CV]  max_depth=4, max_leaf_nodes=30, min_samples_split=4, score=0.8467306538692262, total=   0.0s\n",
      "[CV] max_depth=4, max_leaf_nodes=30, min_samples_split=4 .............\n",
      "[CV]  max_depth=4, max_leaf_nodes=30, min_samples_split=4, score=0.8562424969987995, total=   0.0s\n",
      "[CV] max_depth=4, max_leaf_nodes=30, min_samples_split=8 .............\n",
      "[CV]  max_depth=4, max_leaf_nodes=30, min_samples_split=8, score=0.849130173965207, total=   0.0s\n",
      "[CV] max_depth=4, max_leaf_nodes=30, min_samples_split=8 .............\n",
      "[CV]  max_depth=4, max_leaf_nodes=30, min_samples_split=8, score=0.8467306538692262, total=   0.0s\n",
      "[CV] max_depth=4, max_leaf_nodes=30, min_samples_split=8 .............\n",
      "[CV]  max_depth=4, max_leaf_nodes=30, min_samples_split=8, score=0.8562424969987995, total=   0.0s\n",
      "[CV] max_depth=4, max_leaf_nodes=40, min_samples_split=2 .............\n",
      "[CV]  max_depth=4, max_leaf_nodes=40, min_samples_split=2, score=0.8497300539892022, total=   0.0s\n",
      "[CV] max_depth=4, max_leaf_nodes=40, min_samples_split=2 .............\n",
      "[CV]  max_depth=4, max_leaf_nodes=40, min_samples_split=2, score=0.8467306538692262, total=   0.0s\n",
      "[CV] max_depth=4, max_leaf_nodes=40, min_samples_split=2 .............\n",
      "[CV]  max_depth=4, max_leaf_nodes=40, min_samples_split=2, score=0.8562424969987995, total=   0.0s\n",
      "[CV] max_depth=4, max_leaf_nodes=40, min_samples_split=4 .............\n",
      "[CV]  max_depth=4, max_leaf_nodes=40, min_samples_split=4, score=0.8497300539892022, total=   0.0s\n",
      "[CV] max_depth=4, max_leaf_nodes=40, min_samples_split=4 .............\n",
      "[CV]  max_depth=4, max_leaf_nodes=40, min_samples_split=4, score=0.8467306538692262, total=   0.0s\n",
      "[CV] max_depth=4, max_leaf_nodes=40, min_samples_split=4 .............\n",
      "[CV]  max_depth=4, max_leaf_nodes=40, min_samples_split=4, score=0.8562424969987995, total=   0.0s\n",
      "[CV] max_depth=4, max_leaf_nodes=40, min_samples_split=8 .............\n",
      "[CV]  max_depth=4, max_leaf_nodes=40, min_samples_split=8, score=0.849130173965207, total=   0.0s\n",
      "[CV] max_depth=4, max_leaf_nodes=40, min_samples_split=8 .............\n",
      "[CV]  max_depth=4, max_leaf_nodes=40, min_samples_split=8, score=0.8467306538692262, total=   0.0s\n",
      "[CV] max_depth=4, max_leaf_nodes=40, min_samples_split=8 .............\n",
      "[CV]  max_depth=4, max_leaf_nodes=40, min_samples_split=8, score=0.8562424969987995, total=   0.0s\n",
      "[CV] max_depth=4, max_leaf_nodes=50, min_samples_split=2 .............\n",
      "[CV]  max_depth=4, max_leaf_nodes=50, min_samples_split=2, score=0.8497300539892022, total=   0.0s\n",
      "[CV] max_depth=4, max_leaf_nodes=50, min_samples_split=2 .............\n",
      "[CV]  max_depth=4, max_leaf_nodes=50, min_samples_split=2, score=0.8467306538692262, total=   0.0s\n",
      "[CV] max_depth=4, max_leaf_nodes=50, min_samples_split=2 .............\n",
      "[CV]  max_depth=4, max_leaf_nodes=50, min_samples_split=2, score=0.8562424969987995, total=   0.0s\n",
      "[CV] max_depth=4, max_leaf_nodes=50, min_samples_split=4 .............\n",
      "[CV]  max_depth=4, max_leaf_nodes=50, min_samples_split=4, score=0.8497300539892022, total=   0.0s\n",
      "[CV] max_depth=4, max_leaf_nodes=50, min_samples_split=4 .............\n",
      "[CV]  max_depth=4, max_leaf_nodes=50, min_samples_split=4, score=0.8467306538692262, total=   0.0s\n",
      "[CV] max_depth=4, max_leaf_nodes=50, min_samples_split=4 .............\n",
      "[CV]  max_depth=4, max_leaf_nodes=50, min_samples_split=4, score=0.8562424969987995, total=   0.0s\n",
      "[CV] max_depth=4, max_leaf_nodes=50, min_samples_split=8 .............\n",
      "[CV]  max_depth=4, max_leaf_nodes=50, min_samples_split=8, score=0.849130173965207, total=   0.0s\n",
      "[CV] max_depth=4, max_leaf_nodes=50, min_samples_split=8 .............\n",
      "[CV]  max_depth=4, max_leaf_nodes=50, min_samples_split=8, score=0.8467306538692262, total=   0.0s\n",
      "[CV] max_depth=4, max_leaf_nodes=50, min_samples_split=8 .............\n",
      "[CV]  max_depth=4, max_leaf_nodes=50, min_samples_split=8, score=0.8562424969987995, total=   0.0s\n",
      "[CV] max_depth=4, max_leaf_nodes=60, min_samples_split=2 .............\n",
      "[CV]  max_depth=4, max_leaf_nodes=60, min_samples_split=2, score=0.8497300539892022, total=   0.0s\n",
      "[CV] max_depth=4, max_leaf_nodes=60, min_samples_split=2 .............\n",
      "[CV]  max_depth=4, max_leaf_nodes=60, min_samples_split=2, score=0.8467306538692262, total=   0.0s\n",
      "[CV] max_depth=4, max_leaf_nodes=60, min_samples_split=2 .............\n",
      "[CV]  max_depth=4, max_leaf_nodes=60, min_samples_split=2, score=0.8562424969987995, total=   0.0s\n",
      "[CV] max_depth=4, max_leaf_nodes=60, min_samples_split=4 .............\n",
      "[CV]  max_depth=4, max_leaf_nodes=60, min_samples_split=4, score=0.8497300539892022, total=   0.0s\n",
      "[CV] max_depth=4, max_leaf_nodes=60, min_samples_split=4 .............\n",
      "[CV]  max_depth=4, max_leaf_nodes=60, min_samples_split=4, score=0.8467306538692262, total=   0.0s\n",
      "[CV] max_depth=4, max_leaf_nodes=60, min_samples_split=4 .............\n",
      "[CV]  max_depth=4, max_leaf_nodes=60, min_samples_split=4, score=0.8562424969987995, total=   0.0s\n",
      "[CV] max_depth=4, max_leaf_nodes=60, min_samples_split=8 .............\n",
      "[CV]  max_depth=4, max_leaf_nodes=60, min_samples_split=8, score=0.849130173965207, total=   0.0s\n",
      "[CV] max_depth=4, max_leaf_nodes=60, min_samples_split=8 .............\n",
      "[CV]  max_depth=4, max_leaf_nodes=60, min_samples_split=8, score=0.8467306538692262, total=   0.0s\n",
      "[CV] max_depth=4, max_leaf_nodes=60, min_samples_split=8 .............\n",
      "[CV]  max_depth=4, max_leaf_nodes=60, min_samples_split=8, score=0.8562424969987995, total=   0.0s\n",
      "[CV] max_depth=8, max_leaf_nodes=None, min_samples_split=2 ...........\n",
      "[CV]  max_depth=8, max_leaf_nodes=None, min_samples_split=2, score=0.8572285542891421, total=   0.0s\n",
      "[CV] max_depth=8, max_leaf_nodes=None, min_samples_split=2 ...........\n",
      "[CV]  max_depth=8, max_leaf_nodes=None, min_samples_split=2, score=0.8455308938212358, total=   0.0s\n",
      "[CV] max_depth=8, max_leaf_nodes=None, min_samples_split=2 ...........\n",
      "[CV]  max_depth=8, max_leaf_nodes=None, min_samples_split=2, score=0.8520408163265306, total=   0.0s\n",
      "[CV] max_depth=8, max_leaf_nodes=None, min_samples_split=4 ...........\n",
      "[CV]  max_depth=8, max_leaf_nodes=None, min_samples_split=4, score=0.8572285542891421, total=   0.0s\n",
      "[CV] max_depth=8, max_leaf_nodes=None, min_samples_split=4 ...........\n"
     ]
    },
    {
     "name": "stdout",
     "output_type": "stream",
     "text": [
      "[CV]  max_depth=8, max_leaf_nodes=None, min_samples_split=4, score=0.8449310137972406, total=   0.0s\n",
      "[CV] max_depth=8, max_leaf_nodes=None, min_samples_split=4 ...........\n",
      "[CV]  max_depth=8, max_leaf_nodes=None, min_samples_split=4, score=0.8520408163265306, total=   0.0s\n",
      "[CV] max_depth=8, max_leaf_nodes=None, min_samples_split=8 ...........\n",
      "[CV]  max_depth=8, max_leaf_nodes=None, min_samples_split=8, score=0.856628674265147, total=   0.0s\n",
      "[CV] max_depth=8, max_leaf_nodes=None, min_samples_split=8 ...........\n",
      "[CV]  max_depth=8, max_leaf_nodes=None, min_samples_split=8, score=0.8449310137972406, total=   0.0s\n",
      "[CV] max_depth=8, max_leaf_nodes=None, min_samples_split=8 ...........\n",
      "[CV]  max_depth=8, max_leaf_nodes=None, min_samples_split=8, score=0.8520408163265306, total=   0.0s\n",
      "[CV] max_depth=8, max_leaf_nodes=10, min_samples_split=2 .............\n",
      "[CV]  max_depth=8, max_leaf_nodes=10, min_samples_split=2, score=0.8503299340131973, total=   0.0s\n",
      "[CV] max_depth=8, max_leaf_nodes=10, min_samples_split=2 .............\n",
      "[CV]  max_depth=8, max_leaf_nodes=10, min_samples_split=2, score=0.852129574085183, total=   0.0s\n",
      "[CV] max_depth=8, max_leaf_nodes=10, min_samples_split=2 .............\n",
      "[CV]  max_depth=8, max_leaf_nodes=10, min_samples_split=2, score=0.8559423769507803, total=   0.0s\n",
      "[CV] max_depth=8, max_leaf_nodes=10, min_samples_split=4 .............\n",
      "[CV]  max_depth=8, max_leaf_nodes=10, min_samples_split=4, score=0.8503299340131973, total=   0.0s\n",
      "[CV] max_depth=8, max_leaf_nodes=10, min_samples_split=4 .............\n",
      "[CV]  max_depth=8, max_leaf_nodes=10, min_samples_split=4, score=0.852129574085183, total=   0.0s\n",
      "[CV] max_depth=8, max_leaf_nodes=10, min_samples_split=4 .............\n",
      "[CV]  max_depth=8, max_leaf_nodes=10, min_samples_split=4, score=0.8559423769507803, total=   0.0s\n",
      "[CV] max_depth=8, max_leaf_nodes=10, min_samples_split=8 .............\n",
      "[CV]  max_depth=8, max_leaf_nodes=10, min_samples_split=8, score=0.8503299340131973, total=   0.0s\n",
      "[CV] max_depth=8, max_leaf_nodes=10, min_samples_split=8 .............\n",
      "[CV]  max_depth=8, max_leaf_nodes=10, min_samples_split=8, score=0.852129574085183, total=   0.0s\n",
      "[CV] max_depth=8, max_leaf_nodes=10, min_samples_split=8 .............\n",
      "[CV]  max_depth=8, max_leaf_nodes=10, min_samples_split=8, score=0.8559423769507803, total=   0.0s\n",
      "[CV] max_depth=8, max_leaf_nodes=20, min_samples_split=2 .............\n",
      "[CV]  max_depth=8, max_leaf_nodes=20, min_samples_split=2, score=0.859628074385123, total=   0.0s\n",
      "[CV] max_depth=8, max_leaf_nodes=20, min_samples_split=2 .............\n",
      "[CV]  max_depth=8, max_leaf_nodes=20, min_samples_split=2, score=0.8524295140971806, total=   0.0s\n",
      "[CV] max_depth=8, max_leaf_nodes=20, min_samples_split=2 .............\n",
      "[CV]  max_depth=8, max_leaf_nodes=20, min_samples_split=2, score=0.8568427370948379, total=   0.0s\n",
      "[CV] max_depth=8, max_leaf_nodes=20, min_samples_split=4 .............\n",
      "[CV]  max_depth=8, max_leaf_nodes=20, min_samples_split=4, score=0.859628074385123, total=   0.0s\n",
      "[CV] max_depth=8, max_leaf_nodes=20, min_samples_split=4 .............\n",
      "[CV]  max_depth=8, max_leaf_nodes=20, min_samples_split=4, score=0.8524295140971806, total=   0.0s\n",
      "[CV] max_depth=8, max_leaf_nodes=20, min_samples_split=4 .............\n",
      "[CV]  max_depth=8, max_leaf_nodes=20, min_samples_split=4, score=0.8568427370948379, total=   0.0s\n",
      "[CV] max_depth=8, max_leaf_nodes=20, min_samples_split=8 .............\n",
      "[CV]  max_depth=8, max_leaf_nodes=20, min_samples_split=8, score=0.859628074385123, total=   0.0s\n",
      "[CV] max_depth=8, max_leaf_nodes=20, min_samples_split=8 .............\n",
      "[CV]  max_depth=8, max_leaf_nodes=20, min_samples_split=8, score=0.8524295140971806, total=   0.0s\n",
      "[CV] max_depth=8, max_leaf_nodes=20, min_samples_split=8 .............\n",
      "[CV]  max_depth=8, max_leaf_nodes=20, min_samples_split=8, score=0.8568427370948379, total=   0.0s\n",
      "[CV] max_depth=8, max_leaf_nodes=30, min_samples_split=2 .............\n",
      "[CV]  max_depth=8, max_leaf_nodes=30, min_samples_split=2, score=0.8593281343731254, total=   0.0s\n",
      "[CV] max_depth=8, max_leaf_nodes=30, min_samples_split=2 .............\n",
      "[CV]  max_depth=8, max_leaf_nodes=30, min_samples_split=2, score=0.855128974205159, total=   0.0s\n",
      "[CV] max_depth=8, max_leaf_nodes=30, min_samples_split=2 .............\n",
      "[CV]  max_depth=8, max_leaf_nodes=30, min_samples_split=2, score=0.8538415366146459, total=   0.0s\n",
      "[CV] max_depth=8, max_leaf_nodes=30, min_samples_split=4 .............\n",
      "[CV]  max_depth=8, max_leaf_nodes=30, min_samples_split=4, score=0.8593281343731254, total=   0.0s\n",
      "[CV] max_depth=8, max_leaf_nodes=30, min_samples_split=4 .............\n",
      "[CV]  max_depth=8, max_leaf_nodes=30, min_samples_split=4, score=0.855128974205159, total=   0.0s\n",
      "[CV] max_depth=8, max_leaf_nodes=30, min_samples_split=4 .............\n",
      "[CV]  max_depth=8, max_leaf_nodes=30, min_samples_split=4, score=0.8538415366146459, total=   0.0s\n",
      "[CV] max_depth=8, max_leaf_nodes=30, min_samples_split=8 .............\n",
      "[CV]  max_depth=8, max_leaf_nodes=30, min_samples_split=8, score=0.8593281343731254, total=   0.0s\n",
      "[CV] max_depth=8, max_leaf_nodes=30, min_samples_split=8 .............\n",
      "[CV]  max_depth=8, max_leaf_nodes=30, min_samples_split=8, score=0.855128974205159, total=   0.0s\n",
      "[CV] max_depth=8, max_leaf_nodes=30, min_samples_split=8 .............\n",
      "[CV]  max_depth=8, max_leaf_nodes=30, min_samples_split=8, score=0.8538415366146459, total=   0.0s\n",
      "[CV] max_depth=8, max_leaf_nodes=40, min_samples_split=2 .............\n",
      "[CV]  max_depth=8, max_leaf_nodes=40, min_samples_split=2, score=0.8623275344931014, total=   0.0s\n",
      "[CV] max_depth=8, max_leaf_nodes=40, min_samples_split=2 .............\n",
      "[CV]  max_depth=8, max_leaf_nodes=40, min_samples_split=2, score=0.8512297540491902, total=   0.0s\n",
      "[CV] max_depth=8, max_leaf_nodes=40, min_samples_split=2 .............\n",
      "[CV]  max_depth=8, max_leaf_nodes=40, min_samples_split=2, score=0.8562424969987995, total=   0.0s\n",
      "[CV] max_depth=8, max_leaf_nodes=40, min_samples_split=4 .............\n",
      "[CV]  max_depth=8, max_leaf_nodes=40, min_samples_split=4, score=0.8623275344931014, total=   0.0s\n",
      "[CV] max_depth=8, max_leaf_nodes=40, min_samples_split=4 .............\n",
      "[CV]  max_depth=8, max_leaf_nodes=40, min_samples_split=4, score=0.8512297540491902, total=   0.0s\n",
      "[CV] max_depth=8, max_leaf_nodes=40, min_samples_split=4 .............\n",
      "[CV]  max_depth=8, max_leaf_nodes=40, min_samples_split=4, score=0.8562424969987995, total=   0.0s\n",
      "[CV] max_depth=8, max_leaf_nodes=40, min_samples_split=8 .............\n",
      "[CV]  max_depth=8, max_leaf_nodes=40, min_samples_split=8, score=0.8620275944811038, total=   0.0s\n",
      "[CV] max_depth=8, max_leaf_nodes=40, min_samples_split=8 .............\n",
      "[CV]  max_depth=8, max_leaf_nodes=40, min_samples_split=8, score=0.8512297540491902, total=   0.0s\n",
      "[CV] max_depth=8, max_leaf_nodes=40, min_samples_split=8 .............\n",
      "[CV]  max_depth=8, max_leaf_nodes=40, min_samples_split=8, score=0.8562424969987995, total=   0.0s\n",
      "[CV] max_depth=8, max_leaf_nodes=50, min_samples_split=2 .............\n",
      "[CV]  max_depth=8, max_leaf_nodes=50, min_samples_split=2, score=0.861127774445111, total=   0.0s\n",
      "[CV] max_depth=8, max_leaf_nodes=50, min_samples_split=2 .............\n",
      "[CV]  max_depth=8, max_leaf_nodes=50, min_samples_split=2, score=0.8518296340731853, total=   0.0s\n",
      "[CV] max_depth=8, max_leaf_nodes=50, min_samples_split=2 .............\n",
      "[CV]  max_depth=8, max_leaf_nodes=50, min_samples_split=2, score=0.8574429771908764, total=   0.0s\n",
      "[CV] max_depth=8, max_leaf_nodes=50, min_samples_split=4 .............\n",
      "[CV]  max_depth=8, max_leaf_nodes=50, min_samples_split=4, score=0.861127774445111, total=   0.0s\n",
      "[CV] max_depth=8, max_leaf_nodes=50, min_samples_split=4 .............\n",
      "[CV]  max_depth=8, max_leaf_nodes=50, min_samples_split=4, score=0.8518296340731853, total=   0.0s\n",
      "[CV] max_depth=8, max_leaf_nodes=50, min_samples_split=4 .............\n",
      "[CV]  max_depth=8, max_leaf_nodes=50, min_samples_split=4, score=0.8574429771908764, total=   0.0s\n",
      "[CV] max_depth=8, max_leaf_nodes=50, min_samples_split=8 .............\n",
      "[CV]  max_depth=8, max_leaf_nodes=50, min_samples_split=8, score=0.8605278944211158, total=   0.0s\n",
      "[CV] max_depth=8, max_leaf_nodes=50, min_samples_split=8 .............\n",
      "[CV]  max_depth=8, max_leaf_nodes=50, min_samples_split=8, score=0.8518296340731853, total=   0.0s\n",
      "[CV] max_depth=8, max_leaf_nodes=50, min_samples_split=8 .............\n",
      "[CV]  max_depth=8, max_leaf_nodes=50, min_samples_split=8, score=0.8574429771908764, total=   0.0s\n",
      "[CV] max_depth=8, max_leaf_nodes=60, min_samples_split=2 .............\n",
      "[CV]  max_depth=8, max_leaf_nodes=60, min_samples_split=2, score=0.8605278944211158, total=   0.0s\n",
      "[CV] max_depth=8, max_leaf_nodes=60, min_samples_split=2 .............\n",
      "[CV]  max_depth=8, max_leaf_nodes=60, min_samples_split=2, score=0.8515296940611877, total=   0.0s\n",
      "[CV] max_depth=8, max_leaf_nodes=60, min_samples_split=2 .............\n",
      "[CV]  max_depth=8, max_leaf_nodes=60, min_samples_split=2, score=0.8550420168067226, total=   0.0s\n",
      "[CV] max_depth=8, max_leaf_nodes=60, min_samples_split=4 .............\n",
      "[CV]  max_depth=8, max_leaf_nodes=60, min_samples_split=4, score=0.8605278944211158, total=   0.0s\n",
      "[CV] max_depth=8, max_leaf_nodes=60, min_samples_split=4 .............\n",
      "[CV]  max_depth=8, max_leaf_nodes=60, min_samples_split=4, score=0.8515296940611877, total=   0.0s\n",
      "[CV] max_depth=8, max_leaf_nodes=60, min_samples_split=4 .............\n",
      "[CV]  max_depth=8, max_leaf_nodes=60, min_samples_split=4, score=0.8550420168067226, total=   0.0s\n",
      "[CV] max_depth=8, max_leaf_nodes=60, min_samples_split=8 .............\n",
      "[CV]  max_depth=8, max_leaf_nodes=60, min_samples_split=8, score=0.8605278944211158, total=   0.0s\n",
      "[CV] max_depth=8, max_leaf_nodes=60, min_samples_split=8 .............\n",
      "[CV]  max_depth=8, max_leaf_nodes=60, min_samples_split=8, score=0.8518296340731853, total=   0.0s\n",
      "[CV] max_depth=8, max_leaf_nodes=60, min_samples_split=8 .............\n",
      "[CV]  max_depth=8, max_leaf_nodes=60, min_samples_split=8, score=0.8550420168067226, total=   0.0s\n",
      "[CV] max_depth=12, max_leaf_nodes=None, min_samples_split=2 ..........\n",
      "[CV]  max_depth=12, max_leaf_nodes=None, min_samples_split=2, score=0.8386322735452909, total=   0.0s\n",
      "[CV] max_depth=12, max_leaf_nodes=None, min_samples_split=2 ..........\n",
      "[CV]  max_depth=12, max_leaf_nodes=None, min_samples_split=2, score=0.8254349130173965, total=   0.0s\n",
      "[CV] max_depth=12, max_leaf_nodes=None, min_samples_split=2 ..........\n"
     ]
    },
    {
     "name": "stdout",
     "output_type": "stream",
     "text": [
      "[CV]  max_depth=12, max_leaf_nodes=None, min_samples_split=2, score=0.8385354141656662, total=   0.0s\n",
      "[CV] max_depth=12, max_leaf_nodes=None, min_samples_split=4 ..........\n",
      "[CV]  max_depth=12, max_leaf_nodes=None, min_samples_split=4, score=0.8380323935212958, total=   0.0s\n",
      "[CV] max_depth=12, max_leaf_nodes=None, min_samples_split=4 ..........\n",
      "[CV]  max_depth=12, max_leaf_nodes=None, min_samples_split=4, score=0.8239352129574086, total=   0.0s\n",
      "[CV] max_depth=12, max_leaf_nodes=None, min_samples_split=4 ..........\n",
      "[CV]  max_depth=12, max_leaf_nodes=None, min_samples_split=4, score=0.8367346938775511, total=   0.0s\n",
      "[CV] max_depth=12, max_leaf_nodes=None, min_samples_split=8 ..........\n",
      "[CV]  max_depth=12, max_leaf_nodes=None, min_samples_split=8, score=0.8377324535092981, total=   0.0s\n",
      "[CV] max_depth=12, max_leaf_nodes=None, min_samples_split=8 ..........\n",
      "[CV]  max_depth=12, max_leaf_nodes=None, min_samples_split=8, score=0.8245350929814037, total=   0.0s\n",
      "[CV] max_depth=12, max_leaf_nodes=None, min_samples_split=8 ..........\n",
      "[CV]  max_depth=12, max_leaf_nodes=None, min_samples_split=8, score=0.8373349339735895, total=   0.0s\n",
      "[CV] max_depth=12, max_leaf_nodes=10, min_samples_split=2 ............\n",
      "[CV]  max_depth=12, max_leaf_nodes=10, min_samples_split=2, score=0.8503299340131973, total=   0.0s\n",
      "[CV] max_depth=12, max_leaf_nodes=10, min_samples_split=2 ............\n",
      "[CV]  max_depth=12, max_leaf_nodes=10, min_samples_split=2, score=0.852129574085183, total=   0.0s\n",
      "[CV] max_depth=12, max_leaf_nodes=10, min_samples_split=2 ............\n",
      "[CV]  max_depth=12, max_leaf_nodes=10, min_samples_split=2, score=0.8559423769507803, total=   0.0s\n",
      "[CV] max_depth=12, max_leaf_nodes=10, min_samples_split=4 ............\n",
      "[CV]  max_depth=12, max_leaf_nodes=10, min_samples_split=4, score=0.8503299340131973, total=   0.0s\n",
      "[CV] max_depth=12, max_leaf_nodes=10, min_samples_split=4 ............\n",
      "[CV]  max_depth=12, max_leaf_nodes=10, min_samples_split=4, score=0.852129574085183, total=   0.0s\n",
      "[CV] max_depth=12, max_leaf_nodes=10, min_samples_split=4 ............\n",
      "[CV]  max_depth=12, max_leaf_nodes=10, min_samples_split=4, score=0.8559423769507803, total=   0.0s\n",
      "[CV] max_depth=12, max_leaf_nodes=10, min_samples_split=8 ............\n",
      "[CV]  max_depth=12, max_leaf_nodes=10, min_samples_split=8, score=0.8503299340131973, total=   0.0s\n",
      "[CV] max_depth=12, max_leaf_nodes=10, min_samples_split=8 ............\n",
      "[CV]  max_depth=12, max_leaf_nodes=10, min_samples_split=8, score=0.852129574085183, total=   0.0s\n",
      "[CV] max_depth=12, max_leaf_nodes=10, min_samples_split=8 ............\n",
      "[CV]  max_depth=12, max_leaf_nodes=10, min_samples_split=8, score=0.8559423769507803, total=   0.0s\n",
      "[CV] max_depth=12, max_leaf_nodes=20, min_samples_split=2 ............\n",
      "[CV]  max_depth=12, max_leaf_nodes=20, min_samples_split=2, score=0.859628074385123, total=   0.0s\n",
      "[CV] max_depth=12, max_leaf_nodes=20, min_samples_split=2 ............\n",
      "[CV]  max_depth=12, max_leaf_nodes=20, min_samples_split=2, score=0.8524295140971806, total=   0.0s\n",
      "[CV] max_depth=12, max_leaf_nodes=20, min_samples_split=2 ............\n",
      "[CV]  max_depth=12, max_leaf_nodes=20, min_samples_split=2, score=0.8568427370948379, total=   0.0s\n",
      "[CV] max_depth=12, max_leaf_nodes=20, min_samples_split=4 ............\n",
      "[CV]  max_depth=12, max_leaf_nodes=20, min_samples_split=4, score=0.859628074385123, total=   0.0s\n",
      "[CV] max_depth=12, max_leaf_nodes=20, min_samples_split=4 ............\n",
      "[CV]  max_depth=12, max_leaf_nodes=20, min_samples_split=4, score=0.8524295140971806, total=   0.0s\n",
      "[CV] max_depth=12, max_leaf_nodes=20, min_samples_split=4 ............\n",
      "[CV]  max_depth=12, max_leaf_nodes=20, min_samples_split=4, score=0.8568427370948379, total=   0.0s\n",
      "[CV] max_depth=12, max_leaf_nodes=20, min_samples_split=8 ............\n",
      "[CV]  max_depth=12, max_leaf_nodes=20, min_samples_split=8, score=0.859628074385123, total=   0.0s\n",
      "[CV] max_depth=12, max_leaf_nodes=20, min_samples_split=8 ............\n",
      "[CV]  max_depth=12, max_leaf_nodes=20, min_samples_split=8, score=0.8524295140971806, total=   0.0s\n",
      "[CV] max_depth=12, max_leaf_nodes=20, min_samples_split=8 ............\n",
      "[CV]  max_depth=12, max_leaf_nodes=20, min_samples_split=8, score=0.8568427370948379, total=   0.0s\n",
      "[CV] max_depth=12, max_leaf_nodes=30, min_samples_split=2 ............\n",
      "[CV]  max_depth=12, max_leaf_nodes=30, min_samples_split=2, score=0.8593281343731254, total=   0.0s\n",
      "[CV] max_depth=12, max_leaf_nodes=30, min_samples_split=2 ............\n",
      "[CV]  max_depth=12, max_leaf_nodes=30, min_samples_split=2, score=0.855128974205159, total=   0.0s\n",
      "[CV] max_depth=12, max_leaf_nodes=30, min_samples_split=2 ............\n",
      "[CV]  max_depth=12, max_leaf_nodes=30, min_samples_split=2, score=0.8538415366146459, total=   0.0s\n",
      "[CV] max_depth=12, max_leaf_nodes=30, min_samples_split=4 ............\n",
      "[CV]  max_depth=12, max_leaf_nodes=30, min_samples_split=4, score=0.8593281343731254, total=   0.0s\n",
      "[CV] max_depth=12, max_leaf_nodes=30, min_samples_split=4 ............\n",
      "[CV]  max_depth=12, max_leaf_nodes=30, min_samples_split=4, score=0.855128974205159, total=   0.0s\n",
      "[CV] max_depth=12, max_leaf_nodes=30, min_samples_split=4 ............\n",
      "[CV]  max_depth=12, max_leaf_nodes=30, min_samples_split=4, score=0.8538415366146459, total=   0.0s\n",
      "[CV] max_depth=12, max_leaf_nodes=30, min_samples_split=8 ............\n",
      "[CV]  max_depth=12, max_leaf_nodes=30, min_samples_split=8, score=0.8593281343731254, total=   0.0s\n",
      "[CV] max_depth=12, max_leaf_nodes=30, min_samples_split=8 ............\n",
      "[CV]  max_depth=12, max_leaf_nodes=30, min_samples_split=8, score=0.855128974205159, total=   0.0s\n",
      "[CV] max_depth=12, max_leaf_nodes=30, min_samples_split=8 ............\n",
      "[CV]  max_depth=12, max_leaf_nodes=30, min_samples_split=8, score=0.8538415366146459, total=   0.0s\n",
      "[CV] max_depth=12, max_leaf_nodes=40, min_samples_split=2 ............\n",
      "[CV]  max_depth=12, max_leaf_nodes=40, min_samples_split=2, score=0.8623275344931014, total=   0.0s\n",
      "[CV] max_depth=12, max_leaf_nodes=40, min_samples_split=2 ............\n",
      "[CV]  max_depth=12, max_leaf_nodes=40, min_samples_split=2, score=0.8512297540491902, total=   0.0s\n",
      "[CV] max_depth=12, max_leaf_nodes=40, min_samples_split=2 ............\n",
      "[CV]  max_depth=12, max_leaf_nodes=40, min_samples_split=2, score=0.8547418967587035, total=   0.0s\n",
      "[CV] max_depth=12, max_leaf_nodes=40, min_samples_split=4 ............\n",
      "[CV]  max_depth=12, max_leaf_nodes=40, min_samples_split=4, score=0.8623275344931014, total=   0.0s\n",
      "[CV] max_depth=12, max_leaf_nodes=40, min_samples_split=4 ............\n",
      "[CV]  max_depth=12, max_leaf_nodes=40, min_samples_split=4, score=0.8512297540491902, total=   0.0s\n",
      "[CV] max_depth=12, max_leaf_nodes=40, min_samples_split=4 ............\n",
      "[CV]  max_depth=12, max_leaf_nodes=40, min_samples_split=4, score=0.8547418967587035, total=   0.0s\n",
      "[CV] max_depth=12, max_leaf_nodes=40, min_samples_split=8 ............\n",
      "[CV]  max_depth=12, max_leaf_nodes=40, min_samples_split=8, score=0.8620275944811038, total=   0.0s\n",
      "[CV] max_depth=12, max_leaf_nodes=40, min_samples_split=8 ............\n",
      "[CV]  max_depth=12, max_leaf_nodes=40, min_samples_split=8, score=0.8512297540491902, total=   0.0s\n",
      "[CV] max_depth=12, max_leaf_nodes=40, min_samples_split=8 ............\n",
      "[CV]  max_depth=12, max_leaf_nodes=40, min_samples_split=8, score=0.8547418967587035, total=   0.0s\n",
      "[CV] max_depth=12, max_leaf_nodes=50, min_samples_split=2 ............\n",
      "[CV]  max_depth=12, max_leaf_nodes=50, min_samples_split=2, score=0.859628074385123, total=   0.0s\n",
      "[CV] max_depth=12, max_leaf_nodes=50, min_samples_split=2 ............\n",
      "[CV]  max_depth=12, max_leaf_nodes=50, min_samples_split=2, score=0.850629874025195, total=   0.0s\n",
      "[CV] max_depth=12, max_leaf_nodes=50, min_samples_split=2 ............\n",
      "[CV]  max_depth=12, max_leaf_nodes=50, min_samples_split=2, score=0.8517406962785115, total=   0.0s\n",
      "[CV] max_depth=12, max_leaf_nodes=50, min_samples_split=4 ............\n",
      "[CV]  max_depth=12, max_leaf_nodes=50, min_samples_split=4, score=0.859628074385123, total=   0.0s\n",
      "[CV] max_depth=12, max_leaf_nodes=50, min_samples_split=4 ............\n",
      "[CV]  max_depth=12, max_leaf_nodes=50, min_samples_split=4, score=0.850629874025195, total=   0.0s\n",
      "[CV] max_depth=12, max_leaf_nodes=50, min_samples_split=4 ............\n",
      "[CV]  max_depth=12, max_leaf_nodes=50, min_samples_split=4, score=0.8517406962785115, total=   0.0s\n",
      "[CV] max_depth=12, max_leaf_nodes=50, min_samples_split=8 ............\n",
      "[CV]  max_depth=12, max_leaf_nodes=50, min_samples_split=8, score=0.8587282543491301, total=   0.0s\n",
      "[CV] max_depth=12, max_leaf_nodes=50, min_samples_split=8 ............\n",
      "[CV]  max_depth=12, max_leaf_nodes=50, min_samples_split=8, score=0.8500299940011997, total=   0.0s\n",
      "[CV] max_depth=12, max_leaf_nodes=50, min_samples_split=8 ............\n",
      "[CV]  max_depth=12, max_leaf_nodes=50, min_samples_split=8, score=0.8517406962785115, total=   0.0s\n",
      "[CV] max_depth=12, max_leaf_nodes=60, min_samples_split=2 ............\n",
      "[CV]  max_depth=12, max_leaf_nodes=60, min_samples_split=2, score=0.8578284343131374, total=   0.0s\n",
      "[CV] max_depth=12, max_leaf_nodes=60, min_samples_split=2 ............\n",
      "[CV]  max_depth=12, max_leaf_nodes=60, min_samples_split=2, score=0.852129574085183, total=   0.0s\n",
      "[CV] max_depth=12, max_leaf_nodes=60, min_samples_split=2 ............\n",
      "[CV]  max_depth=12, max_leaf_nodes=60, min_samples_split=2, score=0.8514405762304922, total=   0.0s\n",
      "[CV] max_depth=12, max_leaf_nodes=60, min_samples_split=4 ............\n"
     ]
    },
    {
     "name": "stdout",
     "output_type": "stream",
     "text": [
      "[CV]  max_depth=12, max_leaf_nodes=60, min_samples_split=4, score=0.8578284343131374, total=   0.0s\n",
      "[CV] max_depth=12, max_leaf_nodes=60, min_samples_split=4 ............\n",
      "[CV]  max_depth=12, max_leaf_nodes=60, min_samples_split=4, score=0.852129574085183, total=   0.0s\n",
      "[CV] max_depth=12, max_leaf_nodes=60, min_samples_split=4 ............\n",
      "[CV]  max_depth=12, max_leaf_nodes=60, min_samples_split=4, score=0.8514405762304922, total=   0.0s\n",
      "[CV] max_depth=12, max_leaf_nodes=60, min_samples_split=8 ............\n",
      "[CV]  max_depth=12, max_leaf_nodes=60, min_samples_split=8, score=0.8575284943011398, total=   0.0s\n",
      "[CV] max_depth=12, max_leaf_nodes=60, min_samples_split=8 ............\n",
      "[CV]  max_depth=12, max_leaf_nodes=60, min_samples_split=8, score=0.8518296340731853, total=   0.0s\n",
      "[CV] max_depth=12, max_leaf_nodes=60, min_samples_split=8 ............\n",
      "[CV]  max_depth=12, max_leaf_nodes=60, min_samples_split=8, score=0.8514405762304922, total=   0.0s\n"
     ]
    },
    {
     "name": "stderr",
     "output_type": "stream",
     "text": [
      "[Parallel(n_jobs=1)]: Done 252 out of 252 | elapsed:    3.3s finished\n"
     ]
    },
    {
     "data": {
      "text/plain": [
       "GridSearchCV(cv=3, error_score='raise-deprecating',\n",
       "       estimator=DecisionTreeClassifier(class_weight=None, criterion='gini', max_depth=None,\n",
       "            max_features=None, max_leaf_nodes=None,\n",
       "            min_impurity_decrease=0.0, min_impurity_split=None,\n",
       "            min_samples_leaf=1, min_samples_split=2,\n",
       "            min_weight_fraction_leaf=0.0, presort=False, random_state=None,\n",
       "            splitter='best'),\n",
       "       fit_params=None, iid='warn', n_jobs=None,\n",
       "       param_grid={'max_depth': [2, 4, 8, 12], 'min_samples_split': [2, 4, 8], 'max_leaf_nodes': [None, 10, 20, 30, 40, 50, 60]},\n",
       "       pre_dispatch='2*n_jobs', refit=True, return_train_score='warn',\n",
       "       scoring=None, verbose=3)"
      ]
     },
     "execution_count": 112,
     "metadata": {},
     "output_type": "execute_result"
    }
   ],
   "source": [
    "moon_grid_search = GridSearchCV(tree_moons, param_grid=parameters, cv=3, verbose=3)\n",
    "moon_grid_search.fit(X, y)"
   ]
  },
  {
   "cell_type": "code",
   "execution_count": 113,
   "metadata": {},
   "outputs": [
    {
     "data": {
      "text/plain": [
       "0.8568"
      ]
     },
     "execution_count": 113,
     "metadata": {},
     "output_type": "execute_result"
    }
   ],
   "source": [
    "moon_grid_search.best_score_"
   ]
  },
  {
   "cell_type": "code",
   "execution_count": 114,
   "metadata": {},
   "outputs": [
    {
     "data": {
      "text/plain": [
       "DecisionTreeClassifier(class_weight=None, criterion='gini', max_depth=8,\n",
       "            max_features=None, max_leaf_nodes=50,\n",
       "            min_impurity_decrease=0.0, min_impurity_split=None,\n",
       "            min_samples_leaf=1, min_samples_split=2,\n",
       "            min_weight_fraction_leaf=0.0, presort=False, random_state=None,\n",
       "            splitter='best')"
      ]
     },
     "execution_count": 114,
     "metadata": {},
     "output_type": "execute_result"
    }
   ],
   "source": [
    "moon_grid_search.best_estimator_"
   ]
  },
  {
   "cell_type": "code",
   "execution_count": 115,
   "metadata": {},
   "outputs": [],
   "source": [
    "from sklearn.metrics import accuracy_score"
   ]
  },
  {
   "cell_type": "code",
   "execution_count": 116,
   "metadata": {},
   "outputs": [
    {
     "data": {
      "text/plain": [
       "0.8695"
      ]
     },
     "execution_count": 116,
     "metadata": {},
     "output_type": "execute_result"
    }
   ],
   "source": [
    "y_pred = moon_grid_search.best_estimator_.predict(X_test)\n",
    "accuracy_score(y_test, y_pred)"
   ]
  },
  {
   "cell_type": "markdown",
   "metadata": {},
   "source": [
    "# 8 -"
   ]
  },
  {
   "cell_type": "code",
   "execution_count": 117,
   "metadata": {},
   "outputs": [],
   "source": [
    "from sklearn.model_selection import ShuffleSplit\n",
    "\n",
    "rs = ShuffleSplit(n_splits=1000, test_size=len(X_train) - 100)"
   ]
  },
  {
   "cell_type": "code",
   "execution_count": 118,
   "metadata": {},
   "outputs": [],
   "source": [
    "mini_sets = []\n",
    "\n",
    "for train_index, test_index in rs.split(X_train):\n",
    "    X_mini_train = X_train[train_index]\n",
    "    y_mini_train = y_train[train_index]\n",
    "    mini_sets.append((X_mini_train, y_mini_train))"
   ]
  },
  {
   "cell_type": "code",
   "execution_count": 119,
   "metadata": {},
   "outputs": [
    {
     "data": {
      "text/plain": [
       "0.7872685"
      ]
     },
     "execution_count": 119,
     "metadata": {},
     "output_type": "execute_result"
    }
   ],
   "source": [
    "from sklearn.base import clone\n",
    "\n",
    "forest = [clone(moon_grid_search.best_estimator_) for _ in range(1000)]\n",
    "\n",
    "accuracy_scores = []\n",
    "\n",
    "for tree, (X_mini_train, y_mini_train) in zip(forest, mini_sets):\n",
    "    tree.fit(X_mini_train, y_mini_train)\n",
    "    \n",
    "    y_pred = tree.predict(X_test)\n",
    "    accuracy_scores.append(accuracy_score(y_test, y_pred))\n",
    "    \n",
    "np.mean(accuracy_scores)"
   ]
  },
  {
   "cell_type": "code",
   "execution_count": 120,
   "metadata": {},
   "outputs": [],
   "source": [
    "Y_pred = np.empty([1000, len(X_test)], dtype=np.uint8)\n",
    "\n",
    "for tree_index, tree in enumerate(forest):\n",
    "    Y_pred[tree_index] = tree.predict(X_test)"
   ]
  },
  {
   "cell_type": "code",
   "execution_count": 121,
   "metadata": {},
   "outputs": [],
   "source": [
    "from scipy.stats import mode\n",
    "\n",
    "y_pred_majority_votes, n_votes = mode(Y_pred, axis=0)"
   ]
  },
  {
   "cell_type": "code",
   "execution_count": 122,
   "metadata": {},
   "outputs": [
    {
     "data": {
      "text/plain": [
       "0.863"
      ]
     },
     "execution_count": 122,
     "metadata": {},
     "output_type": "execute_result"
    }
   ],
   "source": [
    "accuracy_score(y_test, y_pred_majority_votes.reshape([-1]))"
   ]
  }
 ],
 "metadata": {
  "kernelspec": {
   "display_name": "Python 3",
   "language": "python",
   "name": "python3"
  },
  "language_info": {
   "codemirror_mode": {
    "name": "ipython",
    "version": 3
   },
   "file_extension": ".py",
   "mimetype": "text/x-python",
   "name": "python",
   "nbconvert_exporter": "python",
   "pygments_lexer": "ipython3",
   "version": "3.6.5"
  }
 },
 "nbformat": 4,
 "nbformat_minor": 2
}
